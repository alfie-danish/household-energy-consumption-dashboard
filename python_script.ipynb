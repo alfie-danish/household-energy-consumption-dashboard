{
  "cells": [
    {
      "cell_type": "code",
      "source": [
        "# Import Libraries\n",
        "import pandas as pd\n",
        "import numpy as np\n",
        "import gspread\n",
        "from gspread_dataframe import set_with_dataframe\n",
        "from df2gspread import df2gspread as d2g\n",
        "from oauth2client.service_account import ServiceAccountCredentials\n",
        "import json"
      ],
      "metadata": {
        "tags": [],
        "cell_id": "a91a849dfd0042528b8fb53d730d94f7",
        "source_hash": "dd2716cf",
        "execution_start": 1668943141227,
        "execution_millis": 763,
        "deepnote_to_be_reexecuted": false,
        "deepnote_cell_type": "code",
        "id": "yJtEmVNEyllt"
      },
      "outputs": [],
      "execution_count": null
    },
    {
      "cell_type": "code",
      "source": [
        "# Access Google Sheets\n",
        "scope = ['https://spreadsheets.google.com/feeds', 'https://www.googleapis.com/auth/drive']\n",
        "\n",
        "credentials = ServiceAccountCredentials.from_json_keyfile_name('jsonFileFromGoogle.json', scope)\n",
        "\n",
        "gc = gspread.authorize(credentials)\n",
        "\n",
        "# URL key of the google sheet\n",
        "spreadsheet_key = spreadsheet_key"
      ],
      "metadata": {
        "tags": [],
        "cell_id": "ff0d44df919545719670524c5ab0ceef",
        "source_hash": "c32b94e5",
        "execution_start": 1668943154471,
        "execution_millis": 10,
        "deepnote_to_be_reexecuted": false,
        "deepnote_cell_type": "code",
        "id": "02g1tqJyyllu"
      },
      "outputs": [],
      "execution_count": null
    },
    {
      "cell_type": "code",
      "source": [
        "# Get the instance of the Spreadsheet\n",
        "wkbook_title = 'Energy Consumption'\n",
        "wkbook = gc.open(wkbook_title)\n",
        "\n",
        "# Get the second sheet of the Spreadsheet\n",
        "wksheet = wkbook.get_worksheet(1)\n",
        "\n",
        "# Get all the records of the data\n",
        "data = wksheet.get_all_records()\n",
        "\n",
        "# View the data - in json format\n",
        "# data\n",
        "\n",
        "# Convert the json to dataframe\n",
        "df = pd.DataFrame.from_dict(data)\n",
        "\n",
        "# Check DF\n",
        "df"
      ],
      "metadata": {
        "tags": [],
        "cell_id": "e6e078c7cc0449ac9022bb906b00be63",
        "source_hash": "86b8bc1a",
        "execution_start": 1668943155217,
        "execution_millis": 1022,
        "deepnote_table_state": {
          "sortBy": [],
          "filters": [],
          "pageSize": 10,
          "pageIndex": 32
        },
        "deepnote_table_loading": false,
        "deepnote_to_be_reexecuted": false,
        "deepnote_cell_type": "code",
        "id": "qKPKxratyllv",
        "outputId": "88d11796-39ca-4467-8d37-5084b674c889"
      },
      "outputs": [
        {
          "output_type": "execute_result",
          "execution_count": 3,
          "data": {
            "application/vnd.deepnote.dataframe.v3+json": {
              "column_count": 6,
              "row_count": 688,
              "columns": [
                {
                  "name": "Date",
                  "dtype": "object",
                  "stats": {
                    "unique_count": 688,
                    "nan_count": 0,
                    "categories": [
                      {
                        "name": "1-Jan-2021",
                        "count": 1
                      },
                      {
                        "name": "2-Jan-2021",
                        "count": 1
                      },
                      {
                        "name": "686 others",
                        "count": 686
                      }
                    ]
                  }
                },
                {
                  "name": "Gas Reading (m3)",
                  "dtype": "object",
                  "stats": {
                    "unique_count": 189,
                    "nan_count": 0,
                    "categories": [
                      {
                        "name": "",
                        "count": 401
                      },
                      {
                        "name": "7298",
                        "count": 18
                      },
                      {
                        "name": "187 others",
                        "count": 269
                      }
                    ]
                  }
                },
                {
                  "name": "Gas Reading (kWh)",
                  "dtype": "object",
                  "stats": {
                    "unique_count": 176,
                    "nan_count": 0,
                    "categories": [
                      {
                        "name": "",
                        "count": 414
                      },
                      {
                        "name": "7695",
                        "count": 18
                      },
                      {
                        "name": "174 others",
                        "count": 256
                      }
                    ]
                  }
                },
                {
                  "name": "Gas Usage (kWh)",
                  "dtype": "object",
                  "stats": {
                    "unique_count": 9,
                    "nan_count": 0,
                    "categories": [
                      {
                        "name": "",
                        "count": 414
                      },
                      {
                        "name": "0",
                        "count": 100
                      },
                      {
                        "name": "7 others",
                        "count": 174
                      }
                    ]
                  }
                },
                {
                  "name": "Elec Reading (kWh)",
                  "dtype": "object",
                  "stats": {
                    "unique_count": 284,
                    "nan_count": 0,
                    "categories": [
                      {
                        "name": "",
                        "count": 401
                      },
                      {
                        "name": "13267",
                        "count": 4
                      },
                      {
                        "name": "282 others",
                        "count": 283
                      }
                    ]
                  }
                },
                {
                  "name": "Elec Usage (kWh)",
                  "dtype": "object",
                  "stats": {
                    "unique_count": 9,
                    "nan_count": 0,
                    "categories": [
                      {
                        "name": "",
                        "count": 414
                      },
                      {
                        "name": "5",
                        "count": 177
                      },
                      {
                        "name": "7 others",
                        "count": 97
                      }
                    ]
                  }
                },
                {
                  "name": "_deepnote_index_column",
                  "dtype": "int64"
                }
              ],
              "rows": [
                {
                  "Date": "17-Nov-2021",
                  "Gas Reading (m3)": "",
                  "Gas Reading (kWh)": "",
                  "Gas Usage (kWh)": "",
                  "Elec Reading (kWh)": "",
                  "Elec Usage (kWh)": "",
                  "_deepnote_index_column": "320"
                },
                {
                  "Date": "18-Nov-2021",
                  "Gas Reading (m3)": "",
                  "Gas Reading (kWh)": "",
                  "Gas Usage (kWh)": "",
                  "Elec Reading (kWh)": "",
                  "Elec Usage (kWh)": "",
                  "_deepnote_index_column": "321"
                },
                {
                  "Date": "19-Nov-2021",
                  "Gas Reading (m3)": "",
                  "Gas Reading (kWh)": "",
                  "Gas Usage (kWh)": "",
                  "Elec Reading (kWh)": "",
                  "Elec Usage (kWh)": "",
                  "_deepnote_index_column": "322"
                },
                {
                  "Date": "20-Nov-2021",
                  "Gas Reading (m3)": "",
                  "Gas Reading (kWh)": "",
                  "Gas Usage (kWh)": "",
                  "Elec Reading (kWh)": "",
                  "Elec Usage (kWh)": "",
                  "_deepnote_index_column": "323"
                },
                {
                  "Date": "21-Nov-2021",
                  "Gas Reading (m3)": "",
                  "Gas Reading (kWh)": "",
                  "Gas Usage (kWh)": "",
                  "Elec Reading (kWh)": "",
                  "Elec Usage (kWh)": "",
                  "_deepnote_index_column": "324"
                },
                {
                  "Date": "22-Nov-2021",
                  "Gas Reading (m3)": "",
                  "Gas Reading (kWh)": "",
                  "Gas Usage (kWh)": "",
                  "Elec Reading (kWh)": "",
                  "Elec Usage (kWh)": "",
                  "_deepnote_index_column": "325"
                },
                {
                  "Date": "23-Nov-2021",
                  "Gas Reading (m3)": "",
                  "Gas Reading (kWh)": "",
                  "Gas Usage (kWh)": "",
                  "Elec Reading (kWh)": "",
                  "Elec Usage (kWh)": "",
                  "_deepnote_index_column": "326"
                },
                {
                  "Date": "24-Nov-2021",
                  "Gas Reading (m3)": "",
                  "Gas Reading (kWh)": "",
                  "Gas Usage (kWh)": "",
                  "Elec Reading (kWh)": "",
                  "Elec Usage (kWh)": "",
                  "_deepnote_index_column": "327"
                },
                {
                  "Date": "25-Nov-2021",
                  "Gas Reading (m3)": "",
                  "Gas Reading (kWh)": "",
                  "Gas Usage (kWh)": "",
                  "Elec Reading (kWh)": "",
                  "Elec Usage (kWh)": "",
                  "_deepnote_index_column": "328"
                },
                {
                  "Date": "26-Nov-2021",
                  "Gas Reading (m3)": "",
                  "Gas Reading (kWh)": "",
                  "Gas Usage (kWh)": "",
                  "Elec Reading (kWh)": "",
                  "Elec Usage (kWh)": "",
                  "_deepnote_index_column": "329"
                }
              ]
            },
            "text/plain": "            Date Gas Reading (m3) Gas Reading (kWh) Gas Usage (kWh)  \\\n0     1-Jan-2021             5808                                     \n1     2-Jan-2021                                                      \n2     3-Jan-2021                                                      \n3     4-Jan-2021                                                      \n4     5-Jan-2021                                                      \n..           ...              ...               ...             ...   \n683  15-Nov-2022                                                      \n684  16-Nov-2022                                                      \n685  17-Nov-2022                                                      \n686  18-Nov-2022                                                      \n687  19-Nov-2022             7372                                     \n\n    Elec Reading (kWh) Elec Usage (kWh)  \n0                10121                   \n1                                        \n2                                        \n3                                        \n4                                        \n..                 ...              ...  \n683                                      \n684                                      \n685                                      \n686                                      \n687              13694                   \n\n[688 rows x 6 columns]",
            "text/html": "<div>\n<style scoped>\n    .dataframe tbody tr th:only-of-type {\n        vertical-align: middle;\n    }\n\n    .dataframe tbody tr th {\n        vertical-align: top;\n    }\n\n    .dataframe thead th {\n        text-align: right;\n    }\n</style>\n<table border=\"1\" class=\"dataframe\">\n  <thead>\n    <tr style=\"text-align: right;\">\n      <th></th>\n      <th>Date</th>\n      <th>Gas Reading (m3)</th>\n      <th>Gas Reading (kWh)</th>\n      <th>Gas Usage (kWh)</th>\n      <th>Elec Reading (kWh)</th>\n      <th>Elec Usage (kWh)</th>\n    </tr>\n  </thead>\n  <tbody>\n    <tr>\n      <th>0</th>\n      <td>1-Jan-2021</td>\n      <td>5808</td>\n      <td></td>\n      <td></td>\n      <td>10121</td>\n      <td></td>\n    </tr>\n    <tr>\n      <th>1</th>\n      <td>2-Jan-2021</td>\n      <td></td>\n      <td></td>\n      <td></td>\n      <td></td>\n      <td></td>\n    </tr>\n    <tr>\n      <th>2</th>\n      <td>3-Jan-2021</td>\n      <td></td>\n      <td></td>\n      <td></td>\n      <td></td>\n      <td></td>\n    </tr>\n    <tr>\n      <th>3</th>\n      <td>4-Jan-2021</td>\n      <td></td>\n      <td></td>\n      <td></td>\n      <td></td>\n      <td></td>\n    </tr>\n    <tr>\n      <th>4</th>\n      <td>5-Jan-2021</td>\n      <td></td>\n      <td></td>\n      <td></td>\n      <td></td>\n      <td></td>\n    </tr>\n    <tr>\n      <th>...</th>\n      <td>...</td>\n      <td>...</td>\n      <td>...</td>\n      <td>...</td>\n      <td>...</td>\n      <td>...</td>\n    </tr>\n    <tr>\n      <th>683</th>\n      <td>15-Nov-2022</td>\n      <td></td>\n      <td></td>\n      <td></td>\n      <td></td>\n      <td></td>\n    </tr>\n    <tr>\n      <th>684</th>\n      <td>16-Nov-2022</td>\n      <td></td>\n      <td></td>\n      <td></td>\n      <td></td>\n      <td></td>\n    </tr>\n    <tr>\n      <th>685</th>\n      <td>17-Nov-2022</td>\n      <td></td>\n      <td></td>\n      <td></td>\n      <td></td>\n      <td></td>\n    </tr>\n    <tr>\n      <th>686</th>\n      <td>18-Nov-2022</td>\n      <td></td>\n      <td></td>\n      <td></td>\n      <td></td>\n      <td></td>\n    </tr>\n    <tr>\n      <th>687</th>\n      <td>19-Nov-2022</td>\n      <td>7372</td>\n      <td></td>\n      <td></td>\n      <td>13694</td>\n      <td></td>\n    </tr>\n  </tbody>\n</table>\n<p>688 rows × 6 columns</p>\n</div>"
          },
          "metadata": {}
        }
      ],
      "execution_count": null
    },
    {
      "cell_type": "code",
      "source": [
        "# Convert obj columns to num\n",
        "cols = df.columns.drop('Date')\n",
        "df[cols] = df[cols].apply(pd.to_numeric, errors='coerce')\n",
        "\n",
        "# Convert obj col to date\n",
        "df['Date'] = pd.to_datetime(df['Date']).dt.date # returns object"
      ],
      "metadata": {
        "tags": [],
        "cell_id": "7abc2b12c68641ac8cc3adbaf2c4ec13",
        "source_hash": "fae04f6a",
        "execution_start": 1668943156311,
        "execution_millis": 64,
        "deepnote_to_be_reexecuted": false,
        "deepnote_cell_type": "code",
        "id": "l_ChQztAyllv"
      },
      "outputs": [],
      "execution_count": null
    },
    {
      "cell_type": "code",
      "source": [
        "# Fill in missing values for gas reading\n",
        "#df[\"Gas Reading (m3)\"] = pd.to_numeric(df[\"Gas Reading (m3)\"])\n",
        "df[\"Gas Reading (m3)\"].interpolate(method ='linear', limit_direction ='forward', inplace=True)\n",
        "df[\"Gas Reading (m3)\"] = df[\"Gas Reading (m3)\"].astype(int)"
      ],
      "metadata": {
        "tags": [],
        "cell_id": "ea00c57a1c0940c6b283c80fecb3fc75",
        "source_hash": "6b6a54cd",
        "execution_start": 1668943157586,
        "execution_millis": 2,
        "deepnote_to_be_reexecuted": false,
        "deepnote_cell_type": "code",
        "id": "mjlxCFTxyllw"
      },
      "outputs": [],
      "execution_count": null
    },
    {
      "cell_type": "code",
      "source": [
        "# Convert to kwh\n",
        "df[\"Gas Reading (kWh)\"] = df[\"Gas Reading (m3)\"] * 10.5335\n",
        "df[\"Gas Reading (kWh)\"] = df[\"Gas Reading (kWh)\"].astype(int)\n",
        "#df[\"Gas Reading (kWh)\"] = df[\"Gas Reading (kWh)\"]"
      ],
      "metadata": {
        "id": "e3POgqgwytzW"
      },
      "execution_count": null,
      "outputs": []
    },
    {
      "cell_type": "code",
      "source": [
        "# Calculate daily gas usage\n",
        "next_day_reading = list(df[\"Gas Reading (kWh)\"][1:])\n",
        "next_day_reading.append(np.nan) # add a NaN to the end of the list\n",
        "\n",
        "df[\"Gas Reading next day\"] = next_day_reading # create helper column\n",
        "df[\"Gas Reading next day\"].interpolate(method ='linear', limit_direction ='forward', inplace=True) # fill in NaN at the end\n",
        "df[\"Gas Usage (kWh)\"] = df[\"Gas Reading next day\"] - df[\"Gas Reading (kWh)\"]"
      ],
      "metadata": {
        "tags": [],
        "cell_id": "3b8981ebdccf4ff1a133fea585de9ed5",
        "source_hash": "a9753b07",
        "execution_start": 1668943159137,
        "execution_millis": 4,
        "deepnote_table_state": {
          "sortBy": [],
          "filters": [],
          "pageSize": 10,
          "pageIndex": 27
        },
        "deepnote_table_loading": false,
        "deepnote_to_be_reexecuted": false,
        "deepnote_cell_type": "code",
        "id": "ZOj6bvP7yllw"
      },
      "outputs": [],
      "execution_count": null
    },
    {
      "cell_type": "code",
      "source": [
        "# Fill missing values for electric reading\n",
        "#df[\"Elec Reading (kWh)\"] = pd.to_numeric(df[\"Elec Reading (kWh)\"])\n",
        "df[\"Elec Reading (kWh)\"].interpolate(method ='linear', limit_direction ='forward', inplace=True)\n",
        "df[\"Elec Reading (kWh)\"] = df[\"Elec Reading (kWh)\"].astype(int)"
      ],
      "metadata": {
        "tags": [],
        "cell_id": "c0ea7967d91c4455bed8ba53f405f007",
        "source_hash": "21c77d54",
        "execution_start": 1668943159698,
        "execution_millis": 1,
        "deepnote_to_be_reexecuted": false,
        "deepnote_cell_type": "code",
        "id": "UxAT6pwiyllw"
      },
      "outputs": [],
      "execution_count": null
    },
    {
      "cell_type": "code",
      "source": [
        "# Calculate daily electric usage\n",
        "next_day_reading = list(df[\"Elec Reading (kWh)\"][1:])\n",
        "next_day_reading.append(np.nan)\n",
        "\n",
        "df[\"Elec Reading next day\"] = next_day_reading\n",
        "df[\"Elec Reading next day\"].interpolate(method ='linear', limit_direction ='forward', inplace=True)\n",
        "df[\"Elec Usage (kWh)\"] = df[\"Elec Reading next day\"] - df[\"Elec Reading (kWh)\"]"
      ],
      "metadata": {
        "tags": [],
        "cell_id": "0121f7dc1aad41bc9077d3b821778f39",
        "source_hash": "e89b381b",
        "execution_start": 1668943160193,
        "execution_millis": 3,
        "deepnote_to_be_reexecuted": false,
        "deepnote_cell_type": "code",
        "id": "qNZ20_K8yllx"
      },
      "outputs": [],
      "execution_count": null
    },
    {
      "cell_type": "code",
      "source": [
        "# Remove unnecessary columns\n",
        "df = df.iloc[:, :-2]"
      ],
      "metadata": {
        "tags": [],
        "cell_id": "240752f5b19e4e65891fb9db60b1f9c3",
        "source_hash": "7e141e44",
        "execution_start": 1668943161046,
        "execution_millis": 1,
        "deepnote_to_be_reexecuted": false,
        "deepnote_cell_type": "code",
        "id": "wV6H1C_3yllx"
      },
      "outputs": [],
      "execution_count": null
    },
    {
      "cell_type": "code",
      "source": [
        "# Remove rows where date is after yesterday\n",
        "from datetime import date\n",
        " \n",
        "# Get today's date\n",
        "today = date.today()\n",
        "\n",
        "df.drop(df[df[\"Date\"] >= today].index, inplace=True)"
      ],
      "metadata": {
        "tags": [],
        "cell_id": "bc032db624f94e85865deab5739e6364",
        "source_hash": "621a103f",
        "execution_start": 1668943162569,
        "execution_millis": 3,
        "deepnote_to_be_reexecuted": false,
        "deepnote_cell_type": "code",
        "id": "4TfXyUn2yllx"
      },
      "outputs": [],
      "execution_count": null
    },
    {
      "cell_type": "code",
      "source": [
        "# Check DF\n",
        "df"
      ],
      "metadata": {
        "tags": [],
        "cell_id": "056cf8016fb043098425e2cf10b0e583",
        "source_hash": "f804c160",
        "execution_start": 1668943163410,
        "execution_millis": 42,
        "deepnote_table_state": {
          "sortBy": [],
          "filters": [],
          "pageSize": 10,
          "pageIndex": 68
        },
        "deepnote_table_loading": false,
        "deepnote_to_be_reexecuted": false,
        "deepnote_cell_type": "code",
        "id": "G_IDkusfyllx",
        "outputId": "ecdee7cb-d59e-4dd0-8e41-91a446f27933"
      },
      "outputs": [
        {
          "output_type": "execute_result",
          "execution_count": 13,
          "data": {
            "application/vnd.deepnote.dataframe.v3+json": {
              "column_count": 6,
              "row_count": 688,
              "columns": [
                {
                  "name": "Date",
                  "dtype": "object",
                  "stats": {
                    "unique_count": 688,
                    "nan_count": 0,
                    "categories": [
                      {
                        "name": "2021-01-01",
                        "count": 1
                      },
                      {
                        "name": "2021-01-02",
                        "count": 1
                      },
                      {
                        "name": "686 others",
                        "count": 686
                      }
                    ]
                  }
                },
                {
                  "name": "Gas Reading (m3)",
                  "dtype": "int64",
                  "stats": {
                    "unique_count": 514,
                    "nan_count": 0,
                    "min": "5808",
                    "max": "7372",
                    "histogram": [
                      {
                        "bin_start": 5808,
                        "bin_end": 5964.4,
                        "count": 30
                      },
                      {
                        "bin_start": 5964.4,
                        "bin_end": 6120.8,
                        "count": 27
                      },
                      {
                        "bin_start": 6120.8,
                        "bin_end": 6277.2,
                        "count": 36
                      },
                      {
                        "bin_start": 6277.2,
                        "bin_end": 6433.6,
                        "count": 72
                      },
                      {
                        "bin_start": 6433.6,
                        "bin_end": 6590,
                        "count": 130
                      },
                      {
                        "bin_start": 6590,
                        "bin_end": 6746.4,
                        "count": 36
                      },
                      {
                        "bin_start": 6746.4,
                        "bin_end": 6902.8,
                        "count": 35
                      },
                      {
                        "bin_start": 6902.8,
                        "bin_end": 7059.2,
                        "count": 36
                      },
                      {
                        "bin_start": 7059.2,
                        "bin_end": 7215.6,
                        "count": 44
                      },
                      {
                        "bin_start": 7215.6,
                        "bin_end": 7372,
                        "count": 242
                      }
                    ]
                  }
                },
                {
                  "name": "Gas Reading (kWh)",
                  "dtype": "int64",
                  "stats": {
                    "unique_count": 514,
                    "nan_count": 0,
                    "min": "61178",
                    "max": "77652",
                    "histogram": [
                      {
                        "bin_start": 61178,
                        "bin_end": 62825.4,
                        "count": 30
                      },
                      {
                        "bin_start": 62825.4,
                        "bin_end": 64472.8,
                        "count": 27
                      },
                      {
                        "bin_start": 64472.8,
                        "bin_end": 66120.2,
                        "count": 36
                      },
                      {
                        "bin_start": 66120.2,
                        "bin_end": 67767.6,
                        "count": 72
                      },
                      {
                        "bin_start": 67767.6,
                        "bin_end": 69415,
                        "count": 130
                      },
                      {
                        "bin_start": 69415,
                        "bin_end": 71062.4,
                        "count": 36
                      },
                      {
                        "bin_start": 71062.4,
                        "bin_end": 72709.8,
                        "count": 35
                      },
                      {
                        "bin_start": 72709.8,
                        "bin_end": 74357.2,
                        "count": 36
                      },
                      {
                        "bin_start": 74357.2,
                        "bin_end": 76004.6,
                        "count": 44
                      },
                      {
                        "bin_start": 76004.6,
                        "bin_end": 77652,
                        "count": 242
                      }
                    ]
                  }
                },
                {
                  "name": "Gas Usage (kWh)",
                  "dtype": "float64",
                  "stats": {
                    "unique_count": 14,
                    "nan_count": 0,
                    "min": "0.0",
                    "max": "106.0",
                    "histogram": [
                      {
                        "bin_start": 0,
                        "bin_end": 10.6,
                        "count": 259
                      },
                      {
                        "bin_start": 10.6,
                        "bin_end": 21.2,
                        "count": 132
                      },
                      {
                        "bin_start": 21.2,
                        "bin_end": 31.799999999999997,
                        "count": 17
                      },
                      {
                        "bin_start": 31.799999999999997,
                        "bin_end": 42.4,
                        "count": 134
                      },
                      {
                        "bin_start": 42.4,
                        "bin_end": 53,
                        "count": 50
                      },
                      {
                        "bin_start": 53,
                        "bin_end": 63.599999999999994,
                        "count": 87
                      },
                      {
                        "bin_start": 63.599999999999994,
                        "bin_end": 74.2,
                        "count": 8
                      },
                      {
                        "bin_start": 74.2,
                        "bin_end": 84.8,
                        "count": 0
                      },
                      {
                        "bin_start": 84.8,
                        "bin_end": 95.39999999999999,
                        "count": 0
                      },
                      {
                        "bin_start": 95.39999999999999,
                        "bin_end": 106,
                        "count": 1
                      }
                    ]
                  }
                },
                {
                  "name": "Elec Reading (kWh)",
                  "dtype": "int64",
                  "stats": {
                    "unique_count": 684,
                    "nan_count": 0,
                    "min": "10121",
                    "max": "13694",
                    "histogram": [
                      {
                        "bin_start": 10121,
                        "bin_end": 10478.3,
                        "count": 58
                      },
                      {
                        "bin_start": 10478.3,
                        "bin_end": 10835.6,
                        "count": 66
                      },
                      {
                        "bin_start": 10835.6,
                        "bin_end": 11192.9,
                        "count": 68
                      },
                      {
                        "bin_start": 11192.9,
                        "bin_end": 11550.2,
                        "count": 66
                      },
                      {
                        "bin_start": 11550.2,
                        "bin_end": 11907.5,
                        "count": 76
                      },
                      {
                        "bin_start": 11907.5,
                        "bin_end": 12264.8,
                        "count": 73
                      },
                      {
                        "bin_start": 12264.8,
                        "bin_end": 12622.1,
                        "count": 78
                      },
                      {
                        "bin_start": 12622.1,
                        "bin_end": 12979.4,
                        "count": 80
                      },
                      {
                        "bin_start": 12979.4,
                        "bin_end": 13336.7,
                        "count": 74
                      },
                      {
                        "bin_start": 13336.7,
                        "bin_end": 13694,
                        "count": 49
                      }
                    ]
                  }
                },
                {
                  "name": "Elec Usage (kWh)",
                  "dtype": "float64",
                  "stats": {
                    "unique_count": 10,
                    "nan_count": 0,
                    "min": "0.0",
                    "max": "9.0",
                    "histogram": [
                      {
                        "bin_start": 0,
                        "bin_end": 0.9,
                        "count": 5
                      },
                      {
                        "bin_start": 0.9,
                        "bin_end": 1.8,
                        "count": 1
                      },
                      {
                        "bin_start": 1.8,
                        "bin_end": 2.7,
                        "count": 2
                      },
                      {
                        "bin_start": 2.7,
                        "bin_end": 3.6,
                        "count": 3
                      },
                      {
                        "bin_start": 3.6,
                        "bin_end": 4.5,
                        "count": 105
                      },
                      {
                        "bin_start": 4.5,
                        "bin_end": 5.4,
                        "count": 377
                      },
                      {
                        "bin_start": 5.4,
                        "bin_end": 6.3,
                        "count": 138
                      },
                      {
                        "bin_start": 6.3,
                        "bin_end": 7.2,
                        "count": 36
                      },
                      {
                        "bin_start": 7.2,
                        "bin_end": 8.1,
                        "count": 15
                      },
                      {
                        "bin_start": 8.1,
                        "bin_end": 9,
                        "count": 6
                      }
                    ]
                  }
                },
                {
                  "name": "_deepnote_index_column",
                  "dtype": "int64"
                }
              ],
              "rows": [
                {
                  "Date": "2022-11-12",
                  "Gas Reading (m3)": "7367",
                  "Gas Reading (kWh)": "77600",
                  "Gas Usage (kWh)": "0.0",
                  "Elec Reading (kWh)": "13635",
                  "Elec Usage (kWh)": "9.0",
                  "_deepnote_index_column": "680"
                },
                {
                  "Date": "2022-11-13",
                  "Gas Reading (m3)": "7367",
                  "Gas Reading (kWh)": "77600",
                  "Gas Usage (kWh)": "10.0",
                  "Elec Reading (kWh)": "13644",
                  "Elec Usage (kWh)": "8.0",
                  "_deepnote_index_column": "681"
                },
                {
                  "Date": "2022-11-14",
                  "Gas Reading (m3)": "7368",
                  "Gas Reading (kWh)": "77610",
                  "Gas Usage (kWh)": "11.0",
                  "Elec Reading (kWh)": "13652",
                  "Elec Usage (kWh)": "8.0",
                  "_deepnote_index_column": "682"
                },
                {
                  "Date": "2022-11-15",
                  "Gas Reading (m3)": "7369",
                  "Gas Reading (kWh)": "77621",
                  "Gas Usage (kWh)": "0.0",
                  "Elec Reading (kWh)": "13660",
                  "Elec Usage (kWh)": "9.0",
                  "_deepnote_index_column": "683"
                },
                {
                  "Date": "2022-11-16",
                  "Gas Reading (m3)": "7369",
                  "Gas Reading (kWh)": "77621",
                  "Gas Usage (kWh)": "10.0",
                  "Elec Reading (kWh)": "13669",
                  "Elec Usage (kWh)": "8.0",
                  "_deepnote_index_column": "684"
                },
                {
                  "Date": "2022-11-17",
                  "Gas Reading (m3)": "7370",
                  "Gas Reading (kWh)": "77631",
                  "Gas Usage (kWh)": "11.0",
                  "Elec Reading (kWh)": "13677",
                  "Elec Usage (kWh)": "8.0",
                  "_deepnote_index_column": "685"
                },
                {
                  "Date": "2022-11-18",
                  "Gas Reading (m3)": "7371",
                  "Gas Reading (kWh)": "77642",
                  "Gas Usage (kWh)": "10.0",
                  "Elec Reading (kWh)": "13685",
                  "Elec Usage (kWh)": "9.0",
                  "_deepnote_index_column": "686"
                },
                {
                  "Date": "2022-11-19",
                  "Gas Reading (m3)": "7372",
                  "Gas Reading (kWh)": "77652",
                  "Gas Usage (kWh)": "0.0",
                  "Elec Reading (kWh)": "13694",
                  "Elec Usage (kWh)": "0.0",
                  "_deepnote_index_column": "687"
                }
              ]
            },
            "text/plain": "           Date  Gas Reading (m3)  Gas Reading (kWh)  Gas Usage (kWh)  \\\n0    2021-01-01              5808              61178             53.0   \n1    2021-01-02              5813              61231             52.0   \n2    2021-01-03              5818              61283             53.0   \n3    2021-01-04              5823              61336             63.0   \n4    2021-01-05              5829              61399             53.0   \n..          ...               ...                ...              ...   \n683  2022-11-15              7369              77621              0.0   \n684  2022-11-16              7369              77621             10.0   \n685  2022-11-17              7370              77631             11.0   \n686  2022-11-18              7371              77642             10.0   \n687  2022-11-19              7372              77652              0.0   \n\n     Elec Reading (kWh)  Elec Usage (kWh)  \n0                 10121               6.0  \n1                 10127               6.0  \n2                 10133               7.0  \n3                 10140               6.0  \n4                 10146               7.0  \n..                  ...               ...  \n683               13660               9.0  \n684               13669               8.0  \n685               13677               8.0  \n686               13685               9.0  \n687               13694               0.0  \n\n[688 rows x 6 columns]",
            "text/html": "<div>\n<style scoped>\n    .dataframe tbody tr th:only-of-type {\n        vertical-align: middle;\n    }\n\n    .dataframe tbody tr th {\n        vertical-align: top;\n    }\n\n    .dataframe thead th {\n        text-align: right;\n    }\n</style>\n<table border=\"1\" class=\"dataframe\">\n  <thead>\n    <tr style=\"text-align: right;\">\n      <th></th>\n      <th>Date</th>\n      <th>Gas Reading (m3)</th>\n      <th>Gas Reading (kWh)</th>\n      <th>Gas Usage (kWh)</th>\n      <th>Elec Reading (kWh)</th>\n      <th>Elec Usage (kWh)</th>\n    </tr>\n  </thead>\n  <tbody>\n    <tr>\n      <th>0</th>\n      <td>2021-01-01</td>\n      <td>5808</td>\n      <td>61178</td>\n      <td>53.0</td>\n      <td>10121</td>\n      <td>6.0</td>\n    </tr>\n    <tr>\n      <th>1</th>\n      <td>2021-01-02</td>\n      <td>5813</td>\n      <td>61231</td>\n      <td>52.0</td>\n      <td>10127</td>\n      <td>6.0</td>\n    </tr>\n    <tr>\n      <th>2</th>\n      <td>2021-01-03</td>\n      <td>5818</td>\n      <td>61283</td>\n      <td>53.0</td>\n      <td>10133</td>\n      <td>7.0</td>\n    </tr>\n    <tr>\n      <th>3</th>\n      <td>2021-01-04</td>\n      <td>5823</td>\n      <td>61336</td>\n      <td>63.0</td>\n      <td>10140</td>\n      <td>6.0</td>\n    </tr>\n    <tr>\n      <th>4</th>\n      <td>2021-01-05</td>\n      <td>5829</td>\n      <td>61399</td>\n      <td>53.0</td>\n      <td>10146</td>\n      <td>7.0</td>\n    </tr>\n    <tr>\n      <th>...</th>\n      <td>...</td>\n      <td>...</td>\n      <td>...</td>\n      <td>...</td>\n      <td>...</td>\n      <td>...</td>\n    </tr>\n    <tr>\n      <th>683</th>\n      <td>2022-11-15</td>\n      <td>7369</td>\n      <td>77621</td>\n      <td>0.0</td>\n      <td>13660</td>\n      <td>9.0</td>\n    </tr>\n    <tr>\n      <th>684</th>\n      <td>2022-11-16</td>\n      <td>7369</td>\n      <td>77621</td>\n      <td>10.0</td>\n      <td>13669</td>\n      <td>8.0</td>\n    </tr>\n    <tr>\n      <th>685</th>\n      <td>2022-11-17</td>\n      <td>7370</td>\n      <td>77631</td>\n      <td>11.0</td>\n      <td>13677</td>\n      <td>8.0</td>\n    </tr>\n    <tr>\n      <th>686</th>\n      <td>2022-11-18</td>\n      <td>7371</td>\n      <td>77642</td>\n      <td>10.0</td>\n      <td>13685</td>\n      <td>9.0</td>\n    </tr>\n    <tr>\n      <th>687</th>\n      <td>2022-11-19</td>\n      <td>7372</td>\n      <td>77652</td>\n      <td>0.0</td>\n      <td>13694</td>\n      <td>0.0</td>\n    </tr>\n  </tbody>\n</table>\n<p>688 rows × 6 columns</p>\n</div>"
          },
          "metadata": {}
        }
      ],
      "execution_count": null
    },
    {
      "cell_type": "code",
      "source": [
        "# Send DF to Google Sheets\n",
        "set_with_dataframe(wkbook.get_worksheet(2), df)"
      ],
      "metadata": {
        "tags": [],
        "cell_id": "6d7c5a3645d24bcdbcffcbd9775ee4d4",
        "source_hash": "a47daa49",
        "execution_start": 1668943164278,
        "execution_millis": 527,
        "deepnote_to_be_reexecuted": false,
        "deepnote_cell_type": "code",
        "id": "rQca8Xv9yllx"
      },
      "outputs": [],
      "execution_count": null
    }
  ],
  "nbformat": 4,
  "nbformat_minor": 0,
  "metadata": {
    "deepnote": {},
    "orig_nbformat": 2,
    "deepnote_app_layout": "dashboard",
    "deepnote_notebook_id": "cccf1e6475c24dd8825cf0187835d069",
    "deepnote_execution_queue": [],
    "colab": {
      "provenance": []
    }
  }
}